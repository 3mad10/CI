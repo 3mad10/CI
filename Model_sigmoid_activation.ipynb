{
 "cells": [
  {
   "cell_type": "code",
   "execution_count": 6,
   "metadata": {},
   "outputs": [],
   "source": [
    "import pandas as pd\n",
    "import numpy as np\n",
    "import scipy\n",
    "import matplotlib.pyplot as plt\n",
    "from sklearn.model_selection import train_test_split"
   ]
  },
  {
   "cell_type": "code",
   "execution_count": 7,
   "metadata": {},
   "outputs": [],
   "source": [
    "def load_dataset(dataset):\n",
    "    dataset = pd.read_csv(dataset)\n",
    "    \n",
    "    X = dataset.drop('target', axis=1)\n",
    "    y = dataset.get('target')\n",
    "    \n",
    "    X_train,X_test,y_train,y_test = train_test_split(X,y,random_state=0,train_size=0.7)\n",
    "    print(y_train.shape)\n",
    "    X_train = X_train.T\n",
    "    y_train = y_train.values.reshape(1,y_train.values.shape[0])\n",
    "    print(y_train.shape)\n",
    "    X_test = X_test.T\n",
    "    y_test = y_test.values.reshape(1,y_test.values.shape[0])\n",
    "    return X_train,y_train,X_test,y_test"
   ]
  },
  {
   "cell_type": "code",
   "execution_count": 8,
   "metadata": {},
   "outputs": [
    {
     "name": "stdout",
     "output_type": "stream",
     "text": [
      "(212,)\n",
      "(1, 212)\n"
     ]
    }
   ],
   "source": [
    "X_train,y_train,X_test,y_test = load_dataset(\"heart.csv\")"
   ]
  },
  {
   "cell_type": "code",
   "execution_count": 30,
   "metadata": {},
   "outputs": [],
   "source": [
    "def initialize_parameters(layer_dims):\n",
    "    np.random.seed(0)\n",
    "    parameters = {}\n",
    "    L = len(layer_dims)\n",
    "    for l in range(1, L):\n",
    "        parameters['W' + str(l)] = np.random.randn(layer_dims[l],layer_dims[l-1])*0.01\n",
    "        parameters['b' + str(l)] = np.zeros((layer_dims[l],1))\n",
    "    return parameters"
   ]
  },
  {
   "cell_type": "code",
   "execution_count": 10,
   "metadata": {},
   "outputs": [],
   "source": [
    "def forward_propagation(X,parameters):\n",
    "    linear = {}\n",
    "    activations = {}\n",
    "    activations[\"A0\"] = X\n",
    "    L = len(parameters) // 2\n",
    "    for l in range(1, L+1):\n",
    "        A_prev = activations[\"A\"+str(l-1)]\n",
    "        linear[\"Z\"+str(l)] = np.dot(parameters[\"W\"+str(l)],A_prev)+parameters[\"b\"+str(l)]\n",
    "        activations[\"A\"+str(l)] = 1/(1+np.exp(-linear[\"Z\"+str(l)]))\n",
    "    return linear,activations"
   ]
  },
  {
   "cell_type": "code",
   "execution_count": 11,
   "metadata": {},
   "outputs": [],
   "source": [
    "def compute_cost(AL,Y):\n",
    "    \n",
    "    m = Y.shape[1]\n",
    "    cost = -np.sum(Y*np.log(AL)+(1-Y)*np.log(1-AL))/m\n",
    "    \n",
    "    return cost"
   ]
  },
  {
   "cell_type": "code",
   "execution_count": 12,
   "metadata": {},
   "outputs": [],
   "source": [
    "def backward_propagation(AL, Y, linear,activations,parameters):\n",
    "    grads = {}\n",
    "    L = len(linear)\n",
    "    m = AL.shape[1]\n",
    "    Y = Y.reshape(AL.shape)\n",
    "    grads[\"dZ\"+str(L)] = AL-Y\n",
    "    grads[\"dW\" + str(L)] = np.dot(grads[\"dZ\"+str(L)],activations[\"A\"+str(L-1)].T)\n",
    "    grads[\"db\" + str(L)] = grads[\"dZ\"+str(L)]\n",
    "    for l in reversed(range(L-1)):\n",
    "        s = 1/(1+np.exp(-linear[\"Z\"+str(l+1)]))\n",
    "        grads[\"dZ\"+str(l+1)] = np.dot(parameters['W'+str(l+2)].T,grads[\"dZ\"+str(l+2)])*s*(1-s)\n",
    "        grads[\"dW\" + str(l + 1)] = 1./m * np.dot(grads[\"dZ\"+str(l+1)],activations[\"A\"+str(l)].T)\n",
    "        grads[\"db\" + str(l + 1)] = 1./m * np.sum(grads[\"dZ\"+str(l+1)],axis=1, keepdims=True)\n",
    "    return grads"
   ]
  },
  {
   "cell_type": "code",
   "execution_count": 13,
   "metadata": {},
   "outputs": [],
   "source": [
    "def update_parameters(parameters, grads, learning_rate):\n",
    "    \n",
    "    L = len(parameters) // 2\n",
    "    \n",
    "    for l in range(L):\n",
    "        parameters[\"W\" + str(l+1)] = parameters[\"W\" + str(l+1)]-learning_rate*grads[\"dW\" + str(l+1)]\n",
    "        parameters[\"b\" + str(l+1)] = parameters[\"b\" + str(l+1)]-learning_rate*grads[\"db\" + str(l+1)]\n",
    "        \n",
    "    return parameters"
   ]
  },
  {
   "cell_type": "code",
   "execution_count": 14,
   "metadata": {},
   "outputs": [],
   "source": [
    "parameters = initialize_parameters([X_train.shape[0],50,100,1])\n",
    "linear,activations = forward_propagation(X_train,parameters)\n",
    "L = len(parameters) // 2\n",
    "grads = backward_propagation(activations[\"A\"+str(L)],y_train,linear,activations,parameters)\n",
    "parameters = update_parameters(parameters,grads,0.001)"
   ]
  },
  {
   "cell_type": "code",
   "execution_count": 20,
   "metadata": {},
   "outputs": [],
   "source": [
    "def optimize(X, Y, layers_dims, learning_rate = 0.001, num_iterations = 2500, print_cost=False):\n",
    "\n",
    "    np.random.seed(1)\n",
    "    costs = []\n",
    "    parameters = initialize_parameters(layers_dims)\n",
    "\n",
    "    for i in range(0, num_iterations):\n",
    "        \n",
    "        linear,activations = forward_propagation(X_train,parameters)\n",
    "        L = len(parameters) // 2\n",
    "        grads = backward_propagation(activations[\"A\"+str(L)],y_train,linear,activations,parameters)\n",
    "        cost = compute_cost(activations[\"A\"+str(L)],Y)\n",
    "        parameters = update_parameters(parameters,grads,0.01)\n",
    "        \n",
    "        if print_cost and i % 1000 == 0:\n",
    "            print (\"Cost after iteration %i: %f\" %(i, cost))\n",
    "        if print_cost and i % 1000 == 0:\n",
    "            costs.append(cost)\n",
    "    \n",
    "    # plot the cost\n",
    "    plt.plot(np.squeeze(costs))\n",
    "    plt.ylabel('cost')\n",
    "    plt.xlabel('iterations (per hundreds)')\n",
    "    plt.title(\"Learning rate =\" + str(learning_rate))\n",
    "    plt.show()\n",
    "    \n",
    "    return parameters"
   ]
  },
  {
   "cell_type": "code",
   "execution_count": 32,
   "metadata": {
    "scrolled": true
   },
   "outputs": [
    {
     "name": "stdout",
     "output_type": "stream",
     "text": [
      "Cost after iteration 0: 0.691087\n",
      "Cost after iteration 1000: 0.105671\n",
      "Cost after iteration 2000: 0.052810\n",
      "Cost after iteration 3000: 0.034704\n",
      "Cost after iteration 4000: 0.025632\n",
      "Cost after iteration 5000: 0.020167\n",
      "Cost after iteration 6000: 0.016505\n",
      "Cost after iteration 7000: 0.013893\n",
      "Cost after iteration 8000: 0.011953\n",
      "Cost after iteration 9000: 0.010464\n",
      "Cost after iteration 10000: 0.009296\n"
     ]
    },
    {
     "data": {
      "image/png": "[encoded data removed]",
      "text/plain": [
       "<Figure size 432x288 with 1 Axes>"
      ]
     },
     "metadata": {
      "needs_background": "light"
     },
     "output_type": "display_data"
    }
   ],
   "source": [
    "parameters = optimize(X_train, y_train, [X_train.shape[0],200,60,1], learning_rate = 0.5, num_iterations = 10001, print_cost=True)"
   ]
  },
  {
   "cell_type": "code",
   "execution_count": null,
   "metadata": {},
   "outputs": [],
   "source": []
  }
 ],
 "metadata": {
  "kernelspec": {
   "display_name": "Python 3",
   "language": "python",
   "name": "python3"
  },
  "language_info": {
   "codemirror_mode": {
    "name": "ipython",
    "version": 3
   },
   "file_extension": ".py",
   "mimetype": "text/x-python",
   "name": "python",
   "nbconvert_exporter": "python",
   "pygments_lexer": "ipython3",
   "version": "3.8.5"
  }
 },
 "nbformat": 4,
 "nbformat_minor": 4
}
