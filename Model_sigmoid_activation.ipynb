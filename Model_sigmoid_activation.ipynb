{
 "cells": [
  {
   "cell_type": "code",
   "execution_count": null,
   "metadata": {},
   "outputs": [],
   "source": [
    "##Imporing required libraries"
   ]
  },
  {
   "cell_type": "code",
   "execution_count": 414,
   "metadata": {},
   "outputs": [],
   "source": [
    "import pandas as pd\n",
    "import numpy as np\n",
    "import scipy\n",
    "import matplotlib.pyplot as plt\n",
    "from sklearn.model_selection import train_test_split\n",
    "from sklearn.metrics import accuracy_score\n",
    "from sklearn.metrics import confusion_matrix"
   ]
  },
  {
   "cell_type": "code",
   "execution_count": 417,
   "metadata": {},
   "outputs": [],
   "source": [
    "def load_dataset(dataset):\n",
    "    df = pd.read_csv(dataset)\n",
    "    X = df.drop('target', axis=1)\n",
    "    y = df.get('target')\n",
    "    X = (X-X.mean())/X.std()\n",
    "    X_train,X_test,y_train,y_test = train_test_split(X,y,random_state=0,train_size=0.7)\n",
    "    print(y_train.shape)\n",
    "    X_train = X_train.T\n",
    "    y_train = y_train.values.reshape(1,y_train.values.shape[0])\n",
    "    print(y_train.shape)\n",
    "    X_test = X_test.T\n",
    "    ##y_test = y_test.values.reshape(1,y_test.values.shape[0])\n",
    "    \n",
    "    return X_train,y_train,X_test,y_test"
   ]
  },
  {
   "cell_type": "code",
   "execution_count": 418,
   "metadata": {
    "scrolled": true
   },
   "outputs": [
    {
     "name": "stdout",
     "output_type": "stream",
     "text": [
      "(212,)\n",
      "(1, 212)\n"
     ]
    }
   ],
   "source": [
    "X_train,y_train,X_test,y_test = load_dataset(\"heart.csv\")"
   ]
  },
  {
   "cell_type": "code",
   "execution_count": 422,
   "metadata": {},
   "outputs": [
    {
     "data": {
      "text/plain": [
       "array([[1, 1, 0, 1, 1, 0, 0, 1, 0, 0, 1, 0, 1, 0, 0, 0, 1, 1, 1, 0, 0, 0,\n",
       "        0, 1, 0, 1, 1, 1, 0, 1, 1, 1, 0, 1, 1, 1, 1, 1, 1, 1, 0, 0, 1, 1,\n",
       "        0, 1, 1, 0, 0, 0, 0, 1, 0, 1, 1, 0, 1, 1, 1, 1, 1, 1, 0, 0, 1, 0,\n",
       "        0, 0, 1, 1, 1, 0, 1, 0, 1, 1, 0, 1, 1, 1, 1, 1, 0, 0, 1, 0, 1, 0,\n",
       "        0, 1, 0, 0, 1, 1, 1, 0, 0, 1, 1, 0, 1, 0, 1, 0, 1, 1, 0, 1, 1, 1,\n",
       "        0, 1, 0, 0, 0, 1, 1, 1, 1, 0, 1, 0, 1, 0, 1, 1, 1, 0, 1, 0, 1, 0,\n",
       "        0, 0, 1, 1, 0, 1, 0, 1, 1, 0, 0, 1, 0, 1, 1, 0, 1, 1, 1, 1, 1, 0,\n",
       "        0, 1, 1, 1, 0, 0, 1, 1, 1, 1, 1, 0, 1, 1, 0, 1, 1, 0, 1, 1, 0, 0,\n",
       "        1, 1, 1, 0, 0, 0, 1, 0, 0, 1, 0, 0, 1, 0, 1, 1, 0, 0, 0, 0, 1, 0,\n",
       "        1, 1, 1, 0, 0, 0, 0, 1, 0, 0, 0, 1, 1, 0]], dtype=int64)"
      ]
     },
     "execution_count": 422,
     "metadata": {},
     "output_type": "execute_result"
    }
   ],
   "source": [
    "y_train"
   ]
  },
  {
   "cell_type": "code",
   "execution_count": 388,
   "metadata": {},
   "outputs": [
    {
     "data": {
      "text/plain": [
       "-1.0916529334612046"
      ]
     },
     "execution_count": 388,
     "metadata": {},
     "output_type": "execute_result"
    }
   ],
   "source": [
    "y_test[225]"
   ]
  },
  {
   "cell_type": "code",
   "execution_count": 389,
   "metadata": {
    "scrolled": true
   },
   "outputs": [
    {
     "data": {
      "text/plain": [
       "age         1.721371\n",
       "sex         0.679881\n",
       "cp         -0.936965\n",
       "trestbps    0.762694\n",
       "chol       -1.394231\n",
       "fbs        -0.416945\n",
       "restecg     0.897478\n",
       "thalach    -1.076040\n",
       "exang       1.433110\n",
       "oldpeak     1.343924\n",
       "slope      -2.270822\n",
       "ca         -0.713249\n",
       "thal        1.121174\n",
       "Name: 225, dtype: float64"
      ]
     },
     "execution_count": 389,
     "metadata": {},
     "output_type": "execute_result"
    }
   ],
   "source": [
    "X_test[225]"
   ]
  },
  {
   "cell_type": "code",
   "execution_count": 476,
   "metadata": {},
   "outputs": [],
   "source": [
    "def initialize_parameters(layer_dims):\n",
    "    np.random.seed(2)\n",
    "    parameters = {}\n",
    "    L = len(layer_dims)\n",
    "    for l in range(1, L):\n",
    "        parameters['W' + str(l)] = np.random.randn(layer_dims[l],layer_dims[l-1])\n",
    "        parameters['b' + str(l)] = np.zeros((layer_dims[l],1))\n",
    "    return parameters"
   ]
  },
  {
   "cell_type": "code",
   "execution_count": 460,
   "metadata": {},
   "outputs": [],
   "source": [
    "parameters = initialize_parameters([X_train.shape[0],200,60,1])"
   ]
  },
  {
   "cell_type": "code",
   "execution_count": 461,
   "metadata": {},
   "outputs": [
    {
     "data": {
      "text/plain": [
       "(1, 60)"
      ]
     },
     "execution_count": 461,
     "metadata": {},
     "output_type": "execute_result"
    }
   ],
   "source": [
    "parameters[\"W3\"].shape"
   ]
  },
  {
   "cell_type": "code",
   "execution_count": 462,
   "metadata": {},
   "outputs": [],
   "source": [
    "def forward_propagation(X,parameters):\n",
    "    linear = {}\n",
    "    activations = {}\n",
    "    activations[\"A0\"] = X\n",
    "    L = len(parameters) // 2\n",
    "    for l in range(1, L):\n",
    "        A_prev = activations[\"A\"+str(l-1)]\n",
    "        linear[\"Z\"+str(l)] = np.dot(parameters[\"W\"+str(l)],A_prev)+parameters[\"b\"+str(l)]\n",
    "        activations[\"A\"+str(l)] = 1/(1+np.exp(-linear[\"Z\"+str(l)]))\n",
    "    A_prev = activations[\"A\"+str(L-1)]\n",
    "    linear[\"Z\"+str(L)] = np.dot(parameters[\"W\"+str(L)],A_prev)+parameters[\"b\"+str(L)]\n",
    "    activations[\"A\"+str(L)] = 1/(1+np.exp(-linear[\"Z\"+str(L)]))\n",
    "    return linear,activations"
   ]
  },
  {
   "cell_type": "code",
   "execution_count": 463,
   "metadata": {},
   "outputs": [],
   "source": [
    "linear,activations = forward_propagation(X_test[225].values.reshape(13,1),parameters)"
   ]
  },
  {
   "cell_type": "code",
   "execution_count": 464,
   "metadata": {},
   "outputs": [
    {
     "data": {
      "text/plain": [
       "(60, 1)"
      ]
     },
     "execution_count": 464,
     "metadata": {},
     "output_type": "execute_result"
    }
   ],
   "source": [
    "A2.shape"
   ]
  },
  {
   "cell_type": "code",
   "execution_count": 465,
   "metadata": {},
   "outputs": [
    {
     "data": {
      "text/plain": [
       "(13, 91)"
      ]
     },
     "execution_count": 465,
     "metadata": {},
     "output_type": "execute_result"
    }
   ],
   "source": [
    "X_test.shape"
   ]
  },
  {
   "cell_type": "code",
   "execution_count": 466,
   "metadata": {
    "scrolled": false
   },
   "outputs": [
    {
     "data": {
      "text/plain": [
       "array([[0.97801549]])"
      ]
     },
     "execution_count": 466,
     "metadata": {},
     "output_type": "execute_result"
    }
   ],
   "source": [
    "activations[\"A3\"]"
   ]
  },
  {
   "cell_type": "code",
   "execution_count": 467,
   "metadata": {},
   "outputs": [],
   "source": [
    "def compute_cost(AL,Y):\n",
    "    \n",
    "    m = Y.shape[1]\n",
    "    cost = -np.sum(Y*np.log(AL)+(1-Y)*np.log(1-AL))/m\n",
    "    \n",
    "    return cost"
   ]
  },
  {
   "cell_type": "code",
   "execution_count": 468,
   "metadata": {},
   "outputs": [],
   "source": [
    "def backward_propagation(AL, Y, linear,activations,parameters):\n",
    "    grads = {}\n",
    "    L = len(linear)\n",
    "    m = AL.shape[1]\n",
    "    Y = Y.reshape(AL.shape)\n",
    "    grads[\"dZ\"+str(L)] = AL-Y\n",
    "    grads[\"dW\" + str(L)] = 1./m * np.dot(grads[\"dZ\"+str(L)],activations[\"A\"+str(L)].T)\n",
    "    grads[\"db\" + str(L)] = 1./m * np.sum(grads[\"dZ\"+str(L)],axis=1, keepdims=True)\n",
    "    for l in reversed(range(L-1)):\n",
    "        s = 1/(1+np.exp(-linear[\"Z\"+str(l+1)]))\n",
    "        grads[\"dZ\"+str(l+1)] = np.dot(parameters['W'+str(l+2)].T,grads[\"dZ\"+str(l+2)])*s*(1-s)\n",
    "        grads[\"dW\" + str(l + 1)] = 1./m * np.dot(grads[\"dZ\"+str(l+1)],activations[\"A\"+str(l)].T)\n",
    "        grads[\"db\" + str(l + 1)] = 1./m * np.sum(grads[\"dZ\"+str(l+1)],axis=1, keepdims=True)\n",
    "    return grads"
   ]
  },
  {
   "cell_type": "code",
   "execution_count": 469,
   "metadata": {},
   "outputs": [],
   "source": [
    "def update_parameters(parameters, grads, learning_rate):\n",
    "    \n",
    "    L = len(parameters) // 2\n",
    "    \n",
    "    for l in range(L):\n",
    "        parameters[\"W\" + str(l+1)] = parameters[\"W\" + str(l+1)]-learning_rate*grads[\"dW\" + str(l+1)]\n",
    "        parameters[\"b\" + str(l+1)] = parameters[\"b\" + str(l+1)]-learning_rate*grads[\"db\" + str(l+1)]\n",
    "        \n",
    "    return parameters"
   ]
  },
  {
   "cell_type": "code",
   "execution_count": 470,
   "metadata": {},
   "outputs": [],
   "source": [
    "parameters = initialize_parameters([X_train.shape[0],50,100,1])\n",
    "linear,activations = forward_propagation(X_train,parameters)\n",
    "L = len(parameters) // 2\n",
    "grads = backward_propagation(activations[\"A\"+str(L)],y_train,linear,activations,parameters)\n",
    "parameters = update_parameters(parameters,grads,0.001)"
   ]
  },
  {
   "cell_type": "code",
   "execution_count": 471,
   "metadata": {},
   "outputs": [
    {
     "data": {
      "text/plain": [
       "(1, 1)"
      ]
     },
     "execution_count": 471,
     "metadata": {},
     "output_type": "execute_result"
    }
   ],
   "source": [
    "grads[\"db3\"].shape"
   ]
  },
  {
   "cell_type": "code",
   "execution_count": 477,
   "metadata": {},
   "outputs": [],
   "source": [
    "def optimize(X, Y, layers_dims, learning_rate, num_iterations = 2500, print_cost=False):\n",
    "\n",
    "    np.random.seed(1)\n",
    "    costs = []\n",
    "    parameters = initialize_parameters(layers_dims)\n",
    "\n",
    "    for i in range(0, num_iterations):\n",
    "        \n",
    "        linear,activations = forward_propagation(X_train,parameters)\n",
    "        L = len(parameters) // 2\n",
    "        grads = backward_propagation(activations[\"A\"+str(L)],y_train,linear,activations,parameters)\n",
    "        cost = compute_cost(activations[\"A\"+str(L)],Y)\n",
    "        parameters = update_parameters(parameters,grads,learning_rate)\n",
    "        \n",
    "        if print_cost and i % 1000 == 0:\n",
    "            print (\"Cost after iteration %i: %f\" %(i, cost))\n",
    "        if print_cost and i % 1000 == 0:\n",
    "            costs.append(cost)\n",
    "    print (\"Cost after iteration %i: %f\" %(i, cost))\n",
    "    # plot the cost\n",
    "    plt.plot(np.squeeze(costs))\n",
    "    plt.ylabel('cost')\n",
    "    plt.xlabel('iterations (per hundreds)')\n",
    "    plt.title(\"Learning rate =\" + str(learning_rate))\n",
    "    plt.show()\n",
    "    \n",
    "    return parameters,costs"
   ]
  },
  {
   "cell_type": "code",
   "execution_count": 473,
   "metadata": {},
   "outputs": [
    {
     "data": {
      "text/plain": [
       "212"
      ]
     },
     "execution_count": 473,
     "metadata": {},
     "output_type": "execute_result"
    }
   ],
   "source": [
    "y_train.shape[1]"
   ]
  },
  {
   "cell_type": "code",
   "execution_count": 481,
   "metadata": {
    "scrolled": true
   },
   "outputs": [
    {
     "name": "stdout",
     "output_type": "stream",
     "text": [
      "Cost after iteration 0: 1.268901\n",
      "Cost after iteration 1000: 0.149475\n",
      "Cost after iteration 2000: 0.127489\n",
      "Cost after iteration 3000: 0.119156\n",
      "Cost after iteration 4000: 0.106826\n",
      "Cost after iteration 5000: 0.100349\n",
      "Cost after iteration 6000: 0.083548\n",
      "Cost after iteration 7000: 0.070014\n",
      "Cost after iteration 8000: 0.062141\n",
      "Cost after iteration 9000: 0.056047\n",
      "Cost after iteration 10000: 0.051052\n",
      "Cost after iteration 11000: 0.044068\n",
      "Cost after iteration 12000: 0.040495\n",
      "Cost after iteration 13000: 0.039677\n",
      "Cost after iteration 14000: 0.033565\n",
      "Cost after iteration 14999: 0.023620\n"
     ]
    },
    {
     "data": {
      "image/png": "[encoded data removed]",
      "text/plain": [
       "<Figure size 432x288 with 1 Axes>"
      ]
     },
     "metadata": {
      "needs_background": "light"
     },
     "output_type": "display_data"
    }
   ],
   "source": [
    "parameters,costs = optimize(X_train, y_train, [X_train.shape[0],100,100,1], learning_rate = 0.05, num_iterations = 15000, print_cost=True)"
   ]
  },
  {
   "cell_type": "code",
   "execution_count": 443,
   "metadata": {},
   "outputs": [
    {
     "data": {
      "text/plain": [
       "(1, 100)"
      ]
     },
     "execution_count": 443,
     "metadata": {},
     "output_type": "execute_result"
    }
   ],
   "source": [
    "parameters[\"W3\"].shape"
   ]
  },
  {
   "cell_type": "code",
   "execution_count": 444,
   "metadata": {
    "scrolled": true
   },
   "outputs": [
    {
     "data": {
      "text/plain": [
       "(1, 1)"
      ]
     },
     "execution_count": 444,
     "metadata": {},
     "output_type": "execute_result"
    }
   ],
   "source": [
    "linear,activations = forward_propagation(X_test[225].values.reshape(13,1),parameters)\n",
    "activations[\"A3\"].shape"
   ]
  },
  {
   "cell_type": "code",
   "execution_count": 482,
   "metadata": {
    "scrolled": true
   },
   "outputs": [
    {
     "name": "stdout",
     "output_type": "stream",
     "text": [
      "Cost after iteration 0: 0.674248\n",
      "Cost after iteration 1000: 0.346113\n",
      "Cost after iteration 2000: 0.296984\n",
      "Cost after iteration 3000: 0.257502\n",
      "Cost after iteration 4000: 0.225617\n",
      "Cost after iteration 5000: 0.203529\n",
      "Cost after iteration 6000: 0.180784\n",
      "Cost after iteration 7000: 0.156233\n",
      "Cost after iteration 8000: 0.132368\n",
      "Cost after iteration 9000: 0.113222\n",
      "Cost after iteration 10000: 0.098092\n",
      "Cost after iteration 11000: 0.087218\n",
      "Cost after iteration 12000: 0.078331\n",
      "Cost after iteration 13000: 0.070436\n",
      "Cost after iteration 14000: 0.063084\n",
      "Cost after iteration 14999: 0.056585\n"
     ]
    },
    {
     "data": {
      "image/png": "[encoded data removed]",
      "text/plain": [
       "<Figure size 432x288 with 1 Axes>"
      ]
     },
     "metadata": {
      "needs_background": "light"
     },
     "output_type": "display_data"
    },
    {
     "name": "stdout",
     "output_type": "stream",
     "text": [
      "Cost after iteration 0: 1.162566\n",
      "Cost after iteration 1000: 0.327602\n",
      "Cost after iteration 2000: 0.283286\n",
      "Cost after iteration 3000: 0.253895\n",
      "Cost after iteration 4000: 0.219041\n",
      "Cost after iteration 5000: 0.173009\n",
      "Cost after iteration 6000: 0.135978\n",
      "Cost after iteration 7000: 0.102933\n",
      "Cost after iteration 8000: 0.075431\n",
      "Cost after iteration 9000: 0.052878\n",
      "Cost after iteration 10000: 0.038306\n",
      "Cost after iteration 11000: 0.025124\n",
      "Cost after iteration 12000: 0.016761\n",
      "Cost after iteration 13000: 0.012423\n",
      "Cost after iteration 14000: 0.009789\n",
      "Cost after iteration 14999: 0.008058\n"
     ]
    },
    {
     "data": {
      "image/png": "[encoded data removed]",
      "text/plain": [
       "<Figure size 432x288 with 1 Axes>"
      ]
     },
     "metadata": {
      "needs_background": "light"
     },
     "output_type": "display_data"
    },
    {
     "name": "stdout",
     "output_type": "stream",
     "text": [
      "Cost after iteration 0: 0.909183\n",
      "Cost after iteration 1000: 0.361006\n",
      "Cost after iteration 2000: 0.286460\n",
      "Cost after iteration 3000: 0.220204\n",
      "Cost after iteration 4000: 0.163142\n",
      "Cost after iteration 5000: 0.106590\n",
      "Cost after iteration 6000: 0.064717\n",
      "Cost after iteration 7000: 0.042781\n",
      "Cost after iteration 8000: 0.027978\n",
      "Cost after iteration 9000: 0.018353\n",
      "Cost after iteration 10000: 0.011648\n",
      "Cost after iteration 11000: 0.007947\n",
      "Cost after iteration 12000: 0.005941\n",
      "Cost after iteration 13000: 0.004635\n",
      "Cost after iteration 14000: 0.003724\n",
      "Cost after iteration 14999: 0.003092\n"
     ]
    },
    {
     "data": {
      "image/png": "[encoded data removed]",
      "text/plain": [
       "<Figure size 432x288 with 1 Axes>"
      ]
     },
     "metadata": {
      "needs_background": "light"
     },
     "output_type": "display_data"
    },
    {
     "name": "stdout",
     "output_type": "stream",
     "text": [
      "Cost after iteration 0: 2.997821\n",
      "Cost after iteration 1000: 0.176344\n",
      "Cost after iteration 2000: 0.132876\n",
      "Cost after iteration 3000: 0.114328\n",
      "Cost after iteration 4000: 0.090144\n",
      "Cost after iteration 5000: 0.057959\n",
      "Cost after iteration 6000: 0.029272\n",
      "Cost after iteration 7000: 0.022921\n",
      "Cost after iteration 8000: 0.016932\n",
      "Cost after iteration 9000: 0.012225\n",
      "Cost after iteration 10000: 0.009677\n",
      "Cost after iteration 11000: 0.008591\n",
      "Cost after iteration 12000: 0.007136\n",
      "Cost after iteration 13000: 0.005890\n",
      "Cost after iteration 14000: 0.005308\n",
      "Cost after iteration 14999: 0.004950\n"
     ]
    },
    {
     "data": {
      "image/png": "[encoded data removed]",
      "text/plain": [
       "<Figure size 432x288 with 1 Axes>"
      ]
     },
     "metadata": {
      "needs_background": "light"
     },
     "output_type": "display_data"
    },
    {
     "name": "stdout",
     "output_type": "stream",
     "text": [
      "Cost after iteration 0: 1.268901\n",
      "Cost after iteration 1000: 0.127595\n",
      "Cost after iteration 2000: 0.106794\n",
      "Cost after iteration 3000: 0.083811\n",
      "Cost after iteration 4000: 0.062599\n",
      "Cost after iteration 5000: 0.050200\n",
      "Cost after iteration 6000: 0.039423\n",
      "Cost after iteration 7000: 0.033583\n",
      "Cost after iteration 8000: 0.018590\n",
      "Cost after iteration 9000: 0.013768\n",
      "Cost after iteration 10000: 0.011390\n",
      "Cost after iteration 11000: 0.008389\n",
      "Cost after iteration 12000: 0.006669\n",
      "Cost after iteration 13000: 0.005215\n",
      "Cost after iteration 14000: 0.004129\n",
      "Cost after iteration 14999: 0.003374\n"
     ]
    },
    {
     "data": {
      "image/png": "[encoded data removed]",
      "text/plain": [
       "<Figure size 432x288 with 1 Axes>"
      ]
     },
     "metadata": {
      "needs_background": "light"
     },
     "output_type": "display_data"
    },
    {
     "name": "stdout",
     "output_type": "stream",
     "text": [
      "Cost after iteration 0: 4.128922\n",
      "Cost after iteration 1000: 0.079857\n",
      "Cost after iteration 2000: 0.071442\n",
      "Cost after iteration 3000: 0.056725\n",
      "Cost after iteration 4000: 0.053720\n",
      "Cost after iteration 5000: 0.038421\n",
      "Cost after iteration 6000: 0.037588\n",
      "Cost after iteration 7000: 0.025543\n",
      "Cost after iteration 8000: 0.021428\n",
      "Cost after iteration 9000: 0.022716\n",
      "Cost after iteration 10000: 0.019053\n",
      "Cost after iteration 11000: 0.014850\n",
      "Cost after iteration 12000: 0.014667\n",
      "Cost after iteration 13000: 0.012778\n",
      "Cost after iteration 14000: 0.011549\n",
      "Cost after iteration 14999: 0.010882\n"
     ]
    },
    {
     "data": {
      "image/png": "[encoded data removed]",
      "text/plain": [
       "<Figure size 432x288 with 1 Axes>"
      ]
     },
     "metadata": {
      "needs_background": "light"
     },
     "output_type": "display_data"
    },
    {
     "name": "stdout",
     "output_type": "stream",
     "text": [
      "Cost after iteration 0: 4.399307\n",
      "Cost after iteration 1000: 0.082898\n",
      "Cost after iteration 2000: 0.059790\n",
      "Cost after iteration 3000: 0.042078\n",
      "Cost after iteration 4000: 0.032984\n",
      "Cost after iteration 5000: 0.027143\n",
      "Cost after iteration 6000: 0.026889\n",
      "Cost after iteration 7000: 0.027269\n",
      "Cost after iteration 8000: 0.022963\n",
      "Cost after iteration 9000: 0.015666\n",
      "Cost after iteration 10000: 0.013109\n",
      "Cost after iteration 11000: 0.010337\n",
      "Cost after iteration 12000: 0.008522\n",
      "Cost after iteration 13000: 0.007309\n",
      "Cost after iteration 14000: 0.008307\n",
      "Cost after iteration 14999: 0.007643\n"
     ]
    },
    {
     "data": {
      "image/png": "[encoded data removed]",
      "text/plain": [
       "<Figure size 432x288 with 1 Axes>"
      ]
     },
     "metadata": {
      "needs_background": "light"
     },
     "output_type": "display_data"
    },
    {
     "name": "stdout",
     "output_type": "stream",
     "text": [
      "Cost after iteration 0: 2.808413\n",
      "Cost after iteration 1000: 0.063440\n",
      "Cost after iteration 2000: 0.044840\n",
      "Cost after iteration 3000: 0.040395\n",
      "Cost after iteration 4000: 0.041702\n",
      "Cost after iteration 5000: 0.030586\n",
      "Cost after iteration 6000: 0.026955\n",
      "Cost after iteration 7000: 0.021878\n",
      "Cost after iteration 8000: 0.016999\n",
      "Cost after iteration 9000: 0.014820\n",
      "Cost after iteration 10000: 0.012538\n",
      "Cost after iteration 11000: 0.013579\n",
      "Cost after iteration 12000: 0.012995\n",
      "Cost after iteration 13000: 0.011792\n",
      "Cost after iteration 14000: 0.010616\n",
      "Cost after iteration 14999: 0.009161\n"
     ]
    },
    {
     "data": {
      "image/png": "[encoded data removed]",
      "text/plain": [
       "<Figure size 432x288 with 1 Axes>"
      ]
     },
     "metadata": {
      "needs_background": "light"
     },
     "output_type": "display_data"
    }
   ],
   "source": [
    "diff_hidden_layers_size = [[X_train.shape[0],5,5,1],[X_train.shape[0],10,10,1],\n",
    "                           [X_train.shape[0],20,20,1],[X_train.shape[0],50,50,1],\n",
    "                           [X_train.shape[0],100,100,1],[X_train.shape[0],150,150,1],\n",
    "                           [X_train.shape[0],200,200,1],[X_train.shape[0],250,250,1]]\n",
    "\n",
    "diff_hidden_layers_parameters = {}\n",
    "diff_hidden_layers_costs = {}\n",
    "count = 1\n",
    "\n",
    "for hidden_layer in diff_hidden_layers_size:\n",
    "    parameters,cost = optimize(X_train, y_train, hidden_layer, learning_rate = 0.1, num_iterations = 15000, print_cost=True)\n",
    "    diff_hidden_layers_parameters[\"NN\"+str(count)] = parameters\n",
    "    diff_hidden_layers_costs[\"NN\"+str(count)] = cost\n",
    "    count += 1"
   ]
  },
  {
   "cell_type": "code",
   "execution_count": 487,
   "metadata": {},
   "outputs": [],
   "source": [
    "def model_predict(x,parameters):\n",
    "    activations[\"A0\"] = x\n",
    "    L = len(parameters) // 2\n",
    "    for l in range(1, L):\n",
    "        A_prev = activations[\"A\"+str(l-1)]\n",
    "        linear[\"Z\"+str(l)] = np.dot(parameters[\"W\"+str(l)],A_prev)+parameters[\"b\"+str(l)]\n",
    "        activations[\"A\"+str(l)] = 1/(1+np.exp(-linear[\"Z\"+str(l)]))\n",
    "    linear[\"Z\"+str(L)] = np.dot(parameters[\"W\"+str(L)],activations[\"A\"+str(l)])+parameters[\"b\"+str(L)]\n",
    "    print(linear[\"Z\"+str(L)].shape)\n",
    "    y = 1/(1+np.exp(-linear[\"Z\"+str(L)]))\n",
    "    return y"
   ]
  },
  {
   "cell_type": "code",
   "execution_count": 488,
   "metadata": {},
   "outputs": [],
   "source": [
    "def predict(x,parameters):\n",
    "    y = model_predict(x,parameters)\n",
    "    y[y>=0.5] = 1\n",
    "    y[y<0.5] = 0\n",
    "    return y.astype(int)"
   ]
  },
  {
   "cell_type": "code",
   "execution_count": 489,
   "metadata": {
    "scrolled": true
   },
   "outputs": [
    {
     "name": "stdout",
     "output_type": "stream",
     "text": [
      "(1, 91)\n"
     ]
    },
    {
     "data": {
      "text/plain": [
       "array([[0, 1, 1, 0, 0, 0, 0, 0, 0, 0, 1, 1, 0, 1, 1, 0, 0, 1, 0, 1, 1, 1,\n",
       "        0, 0, 1, 1, 0, 0, 1, 1, 1, 0, 1, 1, 1, 0, 0, 1, 0, 1, 0, 0, 1, 0,\n",
       "        1, 1, 1, 0, 0, 1, 0, 0, 1, 0, 1, 0, 1, 1, 1, 1, 1, 1, 1, 1, 1, 0,\n",
       "        0, 0, 1, 1, 0, 1, 1, 0, 0, 1, 0, 0, 1, 0, 0, 0, 0, 1, 0, 1, 0, 1,\n",
       "        0, 1, 0]])"
      ]
     },
     "execution_count": 489,
     "metadata": {},
     "output_type": "execute_result"
    }
   ],
   "source": [
    "predict(X_test,parameters)"
   ]
  },
  {
   "cell_type": "code",
   "execution_count": 490,
   "metadata": {},
   "outputs": [
    {
     "data": {
      "text/plain": [
       "array([[0, 1, 0, 0, 1, 0, 0, 0, 0, 0, 1, 1, 0, 1, 1, 1, 1, 1, 0, 1, 1, 0,\n",
       "        0, 0, 1, 0, 0, 0, 1, 1, 0, 0, 1, 1, 1, 0, 0, 1, 0, 0, 1, 1, 1, 0,\n",
       "        1, 1, 1, 0, 0, 1, 1, 1, 1, 1, 1, 0, 1, 0, 1, 1, 1, 1, 1, 1, 0, 0,\n",
       "        0, 0, 1, 1, 1, 1, 1, 0, 0, 1, 0, 0, 1, 1, 0, 0, 0, 1, 0, 0, 0, 0,\n",
       "        1, 0, 0]], dtype=int64)"
      ]
     },
     "execution_count": 490,
     "metadata": {},
     "output_type": "execute_result"
    }
   ],
   "source": [
    "y_test.values.reshape(1,91)"
   ]
  },
  {
   "cell_type": "code",
   "execution_count": 413,
   "metadata": {},
   "outputs": [
    {
     "data": {
      "text/plain": [
       "225   -1.091653\n",
       "152    0.913019\n",
       "228   -1.091653\n",
       "201   -1.091653\n",
       "52     0.913019\n",
       "         ...   \n",
       "253   -1.091653\n",
       "293   -1.091653\n",
       "76     0.913019\n",
       "272   -1.091653\n",
       "238   -1.091653\n",
       "Name: target, Length: 91, dtype: float64"
      ]
     },
     "execution_count": 413,
     "metadata": {},
     "output_type": "execute_result"
    }
   ],
   "source": [
    "y_test"
   ]
  },
  {
   "cell_type": "code",
   "execution_count": 375,
   "metadata": {
    "scrolled": true
   },
   "outputs": [
    {
     "name": "stdout",
     "output_type": "stream",
     "text": [
      "(1, 91)\n"
     ]
    },
    {
     "data": {
      "text/plain": [
       "array([[0, 0, 0, 0, 1, 1, 1, 1, 0, 0, 1, 1, 0, 1, 1, 1, 1, 1, 0, 1, 1, 1,\n",
       "        0, 0, 1, 0, 1, 1, 1, 1, 1, 1, 1, 0, 1, 0, 0, 1, 1, 1, 1, 1, 1, 0,\n",
       "        0, 0, 0, 1, 0, 1, 1, 0, 1, 1, 1, 1, 1, 1, 1, 1, 0, 1, 0, 1, 0, 1,\n",
       "        1, 1, 1, 1, 1, 1, 1, 0, 0, 1, 1, 1, 1, 0, 0, 0, 0, 1, 1, 1, 0, 0,\n",
       "        1, 0, 1]])"
      ]
     },
     "execution_count": 375,
     "metadata": {},
     "output_type": "execute_result"
    }
   ],
   "source": [
    "predictions = predict(X_test,parameters)\n",
    "predictions = predictions.astype(int)\n",
    "predictions"
   ]
  },
  {
   "cell_type": "code",
   "execution_count": 383,
   "metadata": {},
   "outputs": [
    {
     "ename": "ValueError",
     "evalue": "`axis` must be fewer than the number of dimensions (1)",
     "output_type": "error",
     "traceback": [
      "\u001b[1;31m---------------------------------------------------------------------------\u001b[0m",
      "\u001b[1;31mValueError\u001b[0m                                Traceback (most recent call last)",
      "\u001b[1;32m<ipython-input-383-3dd81e191698>\u001b[0m in \u001b[0;36m<module>\u001b[1;34m\u001b[0m\n\u001b[1;32m----> 1\u001b[1;33m \u001b[0maccuracy_score\u001b[0m\u001b[1;33m(\u001b[0m\u001b[0my_test\u001b[0m\u001b[1;33m.\u001b[0m\u001b[0margmax\u001b[0m\u001b[1;33m(\u001b[0m\u001b[0maxis\u001b[0m\u001b[1;33m=\u001b[0m\u001b[1;36m1\u001b[0m\u001b[1;33m)\u001b[0m\u001b[1;33m,\u001b[0m \u001b[0mpredictions\u001b[0m\u001b[1;33m.\u001b[0m\u001b[0margmax\u001b[0m\u001b[1;33m(\u001b[0m\u001b[0maxis\u001b[0m\u001b[1;33m=\u001b[0m\u001b[1;36m1\u001b[0m\u001b[1;33m)\u001b[0m\u001b[1;33m)\u001b[0m\u001b[1;33m\u001b[0m\u001b[1;33m\u001b[0m\u001b[0m\n\u001b[0m",
      "\u001b[1;32m~\\anaconda3\\envs\\CSE489\\lib\\site-packages\\pandas\\core\\base.py\u001b[0m in \u001b[0;36margmax\u001b[1;34m(self, axis, skipna, *args, **kwargs)\u001b[0m\n\u001b[0;32m    716\u001b[0m         \u001b[0msince\u001b[0m \u001b[0mseries\u001b[0m \u001b[1;32mis\u001b[0m \u001b[0mzero\u001b[0m\u001b[1;33m-\u001b[0m\u001b[0mindexed\u001b[0m\u001b[1;33m.\u001b[0m\u001b[1;33m\u001b[0m\u001b[1;33m\u001b[0m\u001b[0m\n\u001b[0;32m    717\u001b[0m         \"\"\"\n\u001b[1;32m--> 718\u001b[1;33m         \u001b[0mnv\u001b[0m\u001b[1;33m.\u001b[0m\u001b[0mvalidate_minmax_axis\u001b[0m\u001b[1;33m(\u001b[0m\u001b[0maxis\u001b[0m\u001b[1;33m)\u001b[0m\u001b[1;33m\u001b[0m\u001b[1;33m\u001b[0m\u001b[0m\n\u001b[0m\u001b[0;32m    719\u001b[0m         \u001b[0mnv\u001b[0m\u001b[1;33m.\u001b[0m\u001b[0mvalidate_argmax_with_skipna\u001b[0m\u001b[1;33m(\u001b[0m\u001b[0mskipna\u001b[0m\u001b[1;33m,\u001b[0m \u001b[0margs\u001b[0m\u001b[1;33m,\u001b[0m \u001b[0mkwargs\u001b[0m\u001b[1;33m)\u001b[0m\u001b[1;33m\u001b[0m\u001b[1;33m\u001b[0m\u001b[0m\n\u001b[0;32m    720\u001b[0m         \u001b[1;32mreturn\u001b[0m \u001b[0mnanops\u001b[0m\u001b[1;33m.\u001b[0m\u001b[0mnanargmax\u001b[0m\u001b[1;33m(\u001b[0m\u001b[0mself\u001b[0m\u001b[1;33m.\u001b[0m\u001b[0m_values\u001b[0m\u001b[1;33m,\u001b[0m \u001b[0mskipna\u001b[0m\u001b[1;33m=\u001b[0m\u001b[0mskipna\u001b[0m\u001b[1;33m)\u001b[0m\u001b[1;33m\u001b[0m\u001b[1;33m\u001b[0m\u001b[0m\n",
      "\u001b[1;32m~\\anaconda3\\envs\\CSE489\\lib\\site-packages\\pandas\\compat\\numpy\\function.py\u001b[0m in \u001b[0;36mvalidate_minmax_axis\u001b[1;34m(axis, ndim)\u001b[0m\n\u001b[0;32m    405\u001b[0m         \u001b[1;32mreturn\u001b[0m\u001b[1;33m\u001b[0m\u001b[1;33m\u001b[0m\u001b[0m\n\u001b[0;32m    406\u001b[0m     \u001b[1;32mif\u001b[0m \u001b[0maxis\u001b[0m \u001b[1;33m>=\u001b[0m \u001b[0mndim\u001b[0m \u001b[1;32mor\u001b[0m \u001b[1;33m(\u001b[0m\u001b[0maxis\u001b[0m \u001b[1;33m<\u001b[0m \u001b[1;36m0\u001b[0m \u001b[1;32mand\u001b[0m \u001b[0mndim\u001b[0m \u001b[1;33m+\u001b[0m \u001b[0maxis\u001b[0m \u001b[1;33m<\u001b[0m \u001b[1;36m0\u001b[0m\u001b[1;33m)\u001b[0m\u001b[1;33m:\u001b[0m\u001b[1;33m\u001b[0m\u001b[1;33m\u001b[0m\u001b[0m\n\u001b[1;32m--> 407\u001b[1;33m         \u001b[1;32mraise\u001b[0m \u001b[0mValueError\u001b[0m\u001b[1;33m(\u001b[0m\u001b[1;34mf\"`axis` must be fewer than the number of dimensions ({ndim})\"\u001b[0m\u001b[1;33m)\u001b[0m\u001b[1;33m\u001b[0m\u001b[1;33m\u001b[0m\u001b[0m\n\u001b[0m",
      "\u001b[1;31mValueError\u001b[0m: `axis` must be fewer than the number of dimensions (1)"
     ]
    }
   ],
   "source": [
    "accuracy_score(y_test.argmax(axis=1), predictions.argmax(axis=1))"
   ]
  },
  {
   "cell_type": "code",
   "execution_count": 94,
   "metadata": {},
   "outputs": [
    {
     "data": {
      "text/plain": [
       "(13, 1)"
      ]
     },
     "execution_count": 94,
     "metadata": {},
     "output_type": "execute_result"
    }
   ],
   "source": [
    "x.shape"
   ]
  },
  {
   "cell_type": "code",
   "execution_count": null,
   "metadata": {},
   "outputs": [],
   "source": []
  }
 ],
 "metadata": {
  "kernelspec": {
   "display_name": "Python 3",
   "language": "python",
   "name": "python3"
  },
  "language_info": {
   "codemirror_mode": {
    "name": "ipython",
    "version": 3
   },
   "file_extension": ".py",
   "mimetype": "text/x-python",
   "name": "python",
   "nbconvert_exporter": "python",
   "pygments_lexer": "ipython3",
   "version": "3.8.5"
  }
 },
 "nbformat": 4,
 "nbformat_minor": 4
}
